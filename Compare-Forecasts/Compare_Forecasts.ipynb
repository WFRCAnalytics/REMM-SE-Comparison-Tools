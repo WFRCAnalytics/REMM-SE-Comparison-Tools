{
 "cells": [
  {
   "cell_type": "code",
   "execution_count": 34,
   "metadata": {},
   "outputs": [],
   "source": [
    "import arcpy\n",
    "from arcpy import env\n",
    "import os\n",
    "from arcgis import GIS\n",
    "from arcgis.features import GeoAccessor\n",
    "from arcgis.features import GeoSeriesAccessor\n",
    "import pandas as pd\n",
    "\n",
    "arcpy.env.overwriteOutput = True\n",
    "arcpy.env.parallelProcessingFactor = \"90%\"\n",
    "\n",
    "# show all columns\n",
    "pd.options.display.max_columns = None\n",
    "\n",
    "# pd.DataFrame.spatial.from_featureclass(???)  \n",
    "# df.spatial.to_featureclass(location=???,sanitize_columns=False)  \n",
    "\n",
    "# gsa = arcgis.features.GeoSeriesAccessor(df['SHAPE'])  \n",
    "# df['AREA'] = gsa.area  # KNOW YOUR UNITS"
   ]
  },
  {
   "cell_type": "code",
   "execution_count": 35,
   "metadata": {},
   "outputs": [],
   "source": [
    "# fill NA values in Spatially enabled dataframes (ignores SHAPE column)\n",
    "def fill_na_sedf(df_with_shape_column, fill_value=0):\n",
    "    if 'SHAPE' in list(df_with_shape_column.columns):\n",
    "        df = df_with_shape_column.copy()\n",
    "        shape_column = df['SHAPE'].copy()\n",
    "        del df['SHAPE']\n",
    "        return df.fillna(fill_value).merge(shape_column,left_index=True, right_index=True, how='inner')\n",
    "    else:\n",
    "        raise Exception(\"Dataframe does not include 'SHAPE' column\")"
   ]
  },
  {
   "cell_type": "code",
   "execution_count": 36,
   "metadata": {},
   "outputs": [],
   "source": [
    "if not os.path.exists('Outputs'):\n",
    "    os.makedirs('Outputs')\n",
    "    \n",
    "outputs = ['.\\\\Outputs', \"scratch.gdb\", 'results.gdb']\n",
    "gdb = os.path.join(outputs[0], outputs[1])\n",
    "gdb2 = os.path.join(outputs[0], outputs[2])\n",
    "\n",
    "if not arcpy.Exists(gdb):\n",
    "    arcpy.CreateFileGDB_management(outputs[0], outputs[1])\n",
    "\n",
    "if not arcpy.Exists(gdb2):\n",
    "    arcpy.CreateFileGDB_management(outputs[0], outputs[2])"
   ]
  },
  {
   "cell_type": "code",
   "execution_count": 37,
   "metadata": {},
   "outputs": [],
   "source": [
    "# read in geometry\n",
    "# taz_832 = pd.DataFrame.spatial.from_featureclass(r\"E:\\Tasks\\REMM-Compare-Forecasts\\Inputs\\TAZ.gdb\\TAZ_832\")[['TAZID', 'CO_FIPS', 'SHAPE']].copy()\n",
    "taz_900 = pd.DataFrame.spatial.from_featureclass(r\"E:\\Tasks\\REMM-Compare-Forecasts\\Inputs\\TAZ.gdb\\TAZ_900\")[['SA_TAZID', 'CO_FIPS', 'SHAPE']].copy().rename({'SA_TAZID': 'TAZID'}, axis=1)"
   ]
  },
  {
   "cell_type": "code",
   "execution_count": 38,
   "metadata": {},
   "outputs": [],
   "source": [
    "# read in new\n",
    "# new_832_2019 = pd.read_csv(r\"E:\\Tasks\\REMM-Compare-Forecasts\\new\\taz832_SE_2019.csv\").rename({';TAZID': 'TAZID'}, axis=1)\n",
    "new_900_2019 = pd.read_csv(r\"E:\\Projects\\REMM-SE-Comparison-Tools\\new_se\\SE_2019.csv\").rename({';TAZID': 'TAZID'}, axis=1)\n",
    "# new_832_2050 = pd.read_csv(r\"E:\\Tasks\\REMM-Compare-Forecasts\\new\\taz832_SE_2050.csv\").rename({';TAZID': 'TAZID'}, axis=1)\n",
    "new_900_2050 = pd.read_csv(r\"E:\\Projects\\REMM-SE-Comparison-Tools\\new_se\\SE_2050.csv\").rename({';TAZID': 'TAZID'}, axis=1)"
   ]
  },
  {
   "cell_type": "code",
   "execution_count": 39,
   "metadata": {},
   "outputs": [],
   "source": [
    "# read in old\n",
    "# old_832_2019 = pd.read_csv(r\"E:\\Tasks\\REMM-Compare-Forecasts\\old\\taz832_SE_2019.csv\").rename({';TAZID': 'TAZID'}, axis=1)\n",
    "old_900_2019 = pd.read_csv(r\"E:\\Projects\\REMM-SE-Comparison-Tools\\old_se\\taz900_SE_2019.csv\").rename({';TAZID': 'TAZID'}, axis=1)\n",
    "# old_832_2050 = pd.read_csv(r\"E:\\Tasks\\REMM-Compare-Forecasts\\old\\taz832_SE_2050.csv\").rename({';TAZID': 'TAZID'}, axis=1)\n",
    "old_900_2050 = pd.read_csv(r\"E:\\Projects\\REMM-SE-Comparison-Tools\\old_se\\taz900_SE_2050.csv\").rename({';TAZID': 'TAZID'}, axis=1)"
   ]
  },
  {
   "cell_type": "code",
   "execution_count": 40,
   "metadata": {},
   "outputs": [],
   "source": [
    "# process new  forecast \n",
    "# others I may add later ( RETL\tFOOD\tMANU\tWSLE\tOFFI\tGVED\tHLTH\tOTHR)\n",
    "\n",
    "# 2019\n",
    "# new_832_2019 = new_832_2019[['TAZID', 'TOTHH', 'TOTEMP', 'ALLEMP', 'FM_CONS', 'RETEMP', 'OTHEMP', 'INDEMP']].copy()\n",
    "# new_832_2019.columns = ['TAZID', 'NEW_TOTHH', 'NEW_TOTEMP', 'NEW_ALLEMP', 'NEW_FM_CONS','NEW_RETEMP', 'NEW_OTHEMP', 'NEW_INDEMP']\n",
    "\n",
    "new_900_2019 = new_900_2019[['TAZID', 'TOTHH', 'TOTEMP', 'ALLEMP', 'FM_CONS', 'RETEMP', 'OTHEMP', 'INDEMP']].copy()\n",
    "new_900_2019.columns = ['TAZID', 'NEW_TOTHH', 'NEW_TOTEMP', 'NEW_ALLEMP', 'NEW_FM_CONS', 'NEW_RETEMP', 'NEW_OTHEMP', 'NEW_INDEMP']\n",
    "\n",
    "# 2050\n",
    "# new_832_2050 = new_832_2050[['TAZID', 'TOTHH', 'TOTEMP', 'ALLEMP', 'FM_CONS', 'RETEMP', 'OTHEMP', 'INDEMP']].copy()\n",
    "# new_832_2050.columns = ['TAZID', 'NEW_TOTHH', 'NEW_TOTEMP', 'NEW_ALLEMP', 'NEW_FM_CONS','NEW_RETEMP', 'NEW_OTHEMP', 'NEW_INDEMP']\n",
    "\n",
    "new_900_2050 = new_900_2050[['TAZID', 'TOTHH', 'TOTEMP', 'ALLEMP', 'FM_CONS', 'RETEMP', 'OTHEMP', 'INDEMP']].copy()\n",
    "new_900_2050.columns = ['TAZID', 'NEW_TOTHH', 'NEW_TOTEMP', 'NEW_ALLEMP', 'NEW_FM_CONS', 'NEW_RETEMP', 'NEW_OTHEMP', 'NEW_INDEMP']\n"
   ]
  },
  {
   "cell_type": "code",
   "execution_count": 41,
   "metadata": {},
   "outputs": [],
   "source": [
    "# process old forecast\n",
    "\n",
    "# 2019\n",
    "# old_832_2019 = old_832_2019[['TAZID', 'TOTHH', 'TOTEMP', 'ALLEMP', 'FM_CONS','RETEMP', 'OTHEMP', 'INDEMP']].copy()\n",
    "# old_832_2019.columns = ['TAZID', 'OLD_TOTHH', 'OLD_TOTEMP', 'OLD_ALLEMP', 'OLD_FM_CONS','OLD_RETEMP', 'OLD_OTHEMP', 'OLD_INDEMP']\n",
    "\n",
    "old_900_2019 = old_900_2019[['TAZID', 'TOTHH', 'TOTEMP', 'ALLEMP', 'FM_CONS','RETEMP', 'OTHEMP', 'INDEMP']].copy()\n",
    "old_900_2019.columns = ['TAZID', 'OLD_TOTHH', 'OLD_TOTEMP', 'OLD_ALLEMP', 'OLD_FM_CONS', 'OLD_RETEMP', 'OLD_OTHEMP', 'OLD_INDEMP']\n",
    "\n",
    "#2050\n",
    "# old_832_2050 = old_832_2050[['TAZID', 'TOTHH', 'TOTEMP', 'ALLEMP', 'FM_CONS','RETEMP', 'OTHEMP', 'INDEMP']].copy()\n",
    "# old_832_2050.columns = ['TAZID', 'OLD_TOTHH', 'OLD_TOTEMP', 'OLD_ALLEMP', 'OLD_FM_CONS','OLD_RETEMP', 'OLD_OTHEMP', 'OLD_INDEMP']\n",
    "\n",
    "old_900_2050 = old_900_2050[['TAZID', 'TOTHH', 'TOTEMP', 'ALLEMP', 'FM_CONS','RETEMP', 'OTHEMP', 'INDEMP']].copy()\n",
    "old_900_2050.columns = ['TAZID', 'OLD_TOTHH', 'OLD_TOTEMP', 'OLD_ALLEMP', 'OLD_FM_CONS', 'OLD_RETEMP', 'OLD_OTHEMP', 'OLD_INDEMP']"
   ]
  },
  {
   "cell_type": "code",
   "execution_count": 42,
   "metadata": {},
   "outputs": [],
   "source": [
    "# join\n",
    "# taz_832_2019_merge = taz_832.merge(old_832_2019, on='TAZID', how='left')\n",
    "# taz_832_2019_merge = taz_832_2019_merge.merge(new_832_2019, on='TAZID', how='left')\n",
    "\n",
    "# taz_832_2050_merge = taz_832.merge(old_832_2050, on='TAZID', how='left')\n",
    "# taz_832_2050_merge = taz_832_2050_merge.merge(new_832_2050, on='TAZID', how='left')\n",
    "\n",
    "taz_900_2019_merge = taz_900.merge(old_900_2019, on='TAZID', how='left')\n",
    "taz_900_2019_merge = taz_900_2019_merge.merge(new_900_2019, on='TAZID', how='left')\n",
    "\n",
    "taz_900_2050_merge = taz_900.merge(old_900_2050, on='TAZID', how='left')\n",
    "taz_900_2050_merge = taz_900_2050_merge.merge(new_900_2050, on='TAZID', how='left')"
   ]
  },
  {
   "cell_type": "code",
   "execution_count": 43,
   "metadata": {},
   "outputs": [],
   "source": [
    "# calc difference\n",
    "fields = ['TOTHH', 'TOTEMP', 'ALLEMP', 'FM_CONS', 'RETEMP', 'OTHEMP', 'INDEMP']\n",
    "for field in fields:\n",
    "    # taz_832_2019_merge[f'DIFF_{field}'] = taz_832_2019_merge[f'NEW_{field}'] - taz_832_2019_merge[f'OLD_{field}']\n",
    "    taz_900_2019_merge[f'DIFF_{field}'] = taz_900_2019_merge[f'NEW_{field}'] - taz_900_2019_merge[f'OLD_{field}']\n",
    "    # taz_832_2050_merge[f'DIFF_{field}'] = taz_832_2050_merge[f'NEW_{field}'] - taz_832_2050_merge[f'OLD_{field}']\n",
    "    taz_900_2050_merge[f'DIFF_{field}'] = taz_900_2050_merge[f'NEW_{field}'] - taz_900_2050_merge[f'OLD_{field}']"
   ]
  },
  {
   "cell_type": "code",
   "execution_count": 44,
   "metadata": {},
   "outputs": [
    {
     "data": {
      "text/plain": [
       "'e:\\\\Tasks\\\\REMM-Compare-Forecasts\\\\Outputs\\\\results.gdb\\\\taz900_2050_comparison'"
      ]
     },
     "execution_count": 44,
     "metadata": {},
     "output_type": "execute_result"
    }
   ],
   "source": [
    "# export\n",
    "# taz_832_2019_merge.spatial.to_featureclass(location=os.path.join(gdb2, 'taz832_2019_comparison'),sanitize_columns=False)\n",
    "taz_900_2019_merge.spatial.to_featureclass(location=os.path.join(gdb2, 'taz900_2019_comparison'),sanitize_columns=False)\n",
    "# taz_832_2050_merge.spatial.to_featureclass(location=os.path.join(gdb2, 'taz832_2050_comparison'),sanitize_columns=False)\n",
    "taz_900_2050_merge.spatial.to_featureclass(location=os.path.join(gdb2, 'taz900_2050_comparison'),sanitize_columns=False)"
   ]
  }
 ],
 "metadata": {
  "kernelspec": {
   "display_name": "Python 3.9.11",
   "language": "python",
   "name": "python3"
  },
  "language_info": {
   "codemirror_mode": {
    "name": "ipython",
    "version": 3
   },
   "file_extension": ".py",
   "mimetype": "text/x-python",
   "name": "python",
   "nbconvert_exporter": "python",
   "pygments_lexer": "ipython3",
   "version": "3.9.11"
  },
  "orig_nbformat": 4,
  "vscode": {
   "interpreter": {
    "hash": "dcba146b744ef62af8ef1a169a65f5cba67ffcb67445c2d993d6e4d88fe0ea63"
   }
  }
 },
 "nbformat": 4,
 "nbformat_minor": 2
}
